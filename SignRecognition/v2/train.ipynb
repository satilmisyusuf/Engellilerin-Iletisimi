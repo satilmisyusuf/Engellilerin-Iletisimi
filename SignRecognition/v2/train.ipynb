{
 "cells": [
  {
   "cell_type": "code",
   "execution_count": 1,
   "metadata": {},
   "outputs": [
    {
     "name": "stderr",
     "output_type": "stream",
     "text": [
      "Using TensorFlow backend.\n"
     ]
    }
   ],
   "source": [
    "import numpy as np\n",
    "import pandas as pd\n",
    "import matplotlib.pyplot as plt\n",
    "%matplotlib inline\n",
    "from keras.datasets import mnist\n",
    "from keras.models import Sequential\n",
    "from keras.layers import Dense, Dropout, Activation, Flatten\n",
    "from keras.optimizers import Adam\n",
    "from keras.layers.normalization import BatchNormalization\n",
    "from keras.utils import np_utils\n",
    "from keras.layers import Conv2D, MaxPooling2D, ZeroPadding2D, GlobalAveragePooling2D\n",
    "from keras.layers.advanced_activations import LeakyReLU \n",
    "from keras.preprocessing.image import ImageDataGenerator\n",
    "from keras.models import model_from_json\n",
    "from keras.models import load_model\n",
    "import os\n",
    "os.environ['KMP_DUPLICATE_LIB_OK']='True'"
   ]
  },
  {
   "cell_type": "code",
   "execution_count": 2,
   "metadata": {},
   "outputs": [],
   "source": [
    "batch_size = 64\n",
    "epochs = 10\n",
    "IMG_SIZE = 150\n",
    "save_dir='./result'\n",
    "npy_dir='./npy_file/'\n",
    "\n",
    "if not os.path.exists(save_dir):\n",
    "    os.makedirs(save_dir)"
   ]
  },
  {
   "cell_type": "code",
   "execution_count": 3,
   "metadata": {},
   "outputs": [],
   "source": [
    "def load_mnist():\n",
    "    x_train = np.load(npy_dir+'x_train.npy')\n",
    "    y_train = np.load(npy_dir+'y_train.npy')\n",
    "    #x_test  = np.load(npy_dir+'x_test.npy')\n",
    "    #y_test  = np.load(npy_dir+'y_test.npy')\n",
    "\n",
    "    print x_train.shape\n",
    "    print y_train.shape\n",
    "    #print x_test.shape\n",
    "    #print y_test.shape\n",
    "    return (x_train, y_train)#, (x_test, y_test)"
   ]
  },
  {
   "cell_type": "code",
   "execution_count": 4,
   "metadata": {},
   "outputs": [
    {
     "name": "stdout",
     "output_type": "stream",
     "text": [
      "(12123, 150, 150, 3)\n",
      "(12123, 20)\n"
     ]
    }
   ],
   "source": [
    "(x, y) = load_mnist() #, (X_test, Y_test) = load_mnist()"
   ]
  },
  {
   "cell_type": "code",
   "execution_count": 5,
   "metadata": {},
   "outputs": [
    {
     "name": "stdout",
     "output_type": "stream",
     "text": [
      "(9698, 150, 150, 3)\n",
      "(9698, 20)\n",
      "(2425, 150, 150, 3)\n",
      "(2425, 20)\n"
     ]
    }
   ],
   "source": [
    "from sklearn.model_selection import train_test_split\n",
    "X_train, X_test, Y_train, Y_test = train_test_split(x, y, test_size = 0.2, random_state = 0)\n",
    "\n",
    "print X_train.shape\n",
    "print Y_train.shape\n",
    "print X_test.shape\n",
    "print Y_test.shape"
   ]
  },
  {
   "cell_type": "code",
   "execution_count": 6,
   "metadata": {},
   "outputs": [],
   "source": [
    "number_of_train_samples = len (X_train)\n",
    "number_of_val_samples =  len (Y_train)"
   ]
  },
  {
   "cell_type": "code",
   "execution_count": 7,
   "metadata": {},
   "outputs": [],
   "source": [
    "def model_1():\n",
    "    model = Sequential()\n",
    "\n",
    "    model.add(Conv2D(32, (3, 3), input_shape=(IMG_SIZE,IMG_SIZE,3)))\n",
    "    model.add(Activation('relu'))\n",
    "    BatchNormalization(axis=-1)\n",
    "    model.add(Conv2D(32, (3, 3)))\n",
    "    model.add(Activation('relu'))\n",
    "    model.add(MaxPooling2D(pool_size=(2,2)))\n",
    "\n",
    "    BatchNormalization(axis=-1)\n",
    "    model.add(Conv2D(64,(3, 3)))\n",
    "    model.add(Activation('relu'))\n",
    "    BatchNormalization(axis=-1)\n",
    "    model.add(Conv2D(64, (3, 3)))\n",
    "    model.add(Activation('relu'))\n",
    "    model.add(MaxPooling2D(pool_size=(2,2)))\n",
    "\n",
    "    model.add(Flatten())\n",
    "    # Fully connected layer\n",
    "\n",
    "    BatchNormalization()\n",
    "    model.add(Dense(512))\n",
    "    model.add(Activation('relu'))\n",
    "    BatchNormalization()\n",
    "    model.add(Dropout(0.2))\n",
    "    model.add(Dense(20))\n",
    "\n",
    "    # model.add(Convolution2D(10,3,3, border_mode='same'))\n",
    "    # model.add(GlobalAveragePooling2D())\n",
    "    model.add(Activation('softmax'))\n",
    "    \n",
    "    model.compile(loss='categorical_crossentropy', optimizer=Adam(), metrics=['accuracy'])\n",
    "    return model"
   ]
  },
  {
   "cell_type": "code",
   "execution_count": 8,
   "metadata": {},
   "outputs": [],
   "source": [
    "def model_2():\n",
    "    model = Sequential() \n",
    "    model.add(Conv2D(32, (2, 2), input_shape = (IMG_SIZE,IMG_SIZE,3))) \n",
    "    model.add(Activation('relu')) \n",
    "    model.add(MaxPooling2D(pool_size =(2, 2))) \n",
    "\n",
    "    model.add(Conv2D(32, (2, 2))) \n",
    "    model.add(Activation('relu')) \n",
    "    model.add(MaxPooling2D(pool_size =(2, 2))) \n",
    "\n",
    "    model.add(Conv2D(64, (2, 2))) \n",
    "    model.add(Activation('relu')) \n",
    "    model.add(MaxPooling2D(pool_size =(2, 2))) \n",
    "\n",
    "    model.add(Flatten()) \n",
    "    model.add(Dense(64)) \n",
    "    model.add(Activation('relu')) \n",
    "    model.add(Dropout(0.5)) \n",
    "    model.add(Dense(20)) \n",
    "    model.add(Activation('sigmoid')) \n",
    "\n",
    "    model.compile(loss ='binary_crossentropy', optimizer ='rmsprop', metrics =['accuracy']) \n",
    "    return model"
   ]
  },
  {
   "cell_type": "code",
   "execution_count": 9,
   "metadata": {},
   "outputs": [
    {
     "name": "stdout",
     "output_type": "stream",
     "text": [
      "_________________________________________________________________\n",
      "Layer (type)                 Output Shape              Param #   \n",
      "=================================================================\n",
      "conv2d_1 (Conv2D)            (None, 149, 149, 32)      416       \n",
      "_________________________________________________________________\n",
      "activation_1 (Activation)    (None, 149, 149, 32)      0         \n",
      "_________________________________________________________________\n",
      "max_pooling2d_1 (MaxPooling2 (None, 74, 74, 32)        0         \n",
      "_________________________________________________________________\n",
      "conv2d_2 (Conv2D)            (None, 73, 73, 32)        4128      \n",
      "_________________________________________________________________\n",
      "activation_2 (Activation)    (None, 73, 73, 32)        0         \n",
      "_________________________________________________________________\n",
      "max_pooling2d_2 (MaxPooling2 (None, 36, 36, 32)        0         \n",
      "_________________________________________________________________\n",
      "conv2d_3 (Conv2D)            (None, 35, 35, 64)        8256      \n",
      "_________________________________________________________________\n",
      "activation_3 (Activation)    (None, 35, 35, 64)        0         \n",
      "_________________________________________________________________\n",
      "max_pooling2d_3 (MaxPooling2 (None, 17, 17, 64)        0         \n",
      "_________________________________________________________________\n",
      "flatten_1 (Flatten)          (None, 18496)             0         \n",
      "_________________________________________________________________\n",
      "dense_1 (Dense)              (None, 64)                1183808   \n",
      "_________________________________________________________________\n",
      "activation_4 (Activation)    (None, 64)                0         \n",
      "_________________________________________________________________\n",
      "dropout_1 (Dropout)          (None, 64)                0         \n",
      "_________________________________________________________________\n",
      "dense_2 (Dense)              (None, 20)                1300      \n",
      "_________________________________________________________________\n",
      "activation_5 (Activation)    (None, 20)                0         \n",
      "=================================================================\n",
      "Total params: 1,197,908\n",
      "Trainable params: 1,197,908\n",
      "Non-trainable params: 0\n",
      "_________________________________________________________________\n"
     ]
    }
   ],
   "source": [
    "model = model_2()\n",
    "model.summary()"
   ]
  },
  {
   "cell_type": "code",
   "execution_count": 10,
   "metadata": {},
   "outputs": [],
   "source": [
    "gen = ImageDataGenerator(rotation_range=8, width_shift_range=0.08, shear_range=0.3,\n",
    "                         height_shift_range=0.08, zoom_range=0.08)\n",
    "\n",
    "test_gen = ImageDataGenerator()"
   ]
  },
  {
   "cell_type": "code",
   "execution_count": 11,
   "metadata": {},
   "outputs": [],
   "source": [
    "train_generator = gen.flow(X_train, Y_train, batch_size=batch_size)\n",
    "test_generator = test_gen.flow(X_test, Y_test, batch_size=batch_size)"
   ]
  },
  {
   "cell_type": "code",
   "execution_count": 12,
   "metadata": {},
   "outputs": [
    {
     "name": "stdout",
     "output_type": "stream",
     "text": [
      "Epoch 1/10\n",
      "151/151 [==============================] - 86s 569ms/step - loss: 0.2682 - acc: 0.9210 - val_loss: 0.2742 - val_acc: 0.9500\n",
      "Epoch 2/10\n",
      "151/151 [==============================] - 75s 496ms/step - loss: 0.1889 - acc: 0.9481 - val_loss: 0.1283 - val_acc: 0.9504\n",
      "Epoch 3/10\n",
      "151/151 [==============================] - 71s 473ms/step - loss: 0.1600 - acc: 0.9487 - val_loss: 0.1026 - val_acc: 0.9532\n",
      "Epoch 4/10\n",
      "151/151 [==============================] - 72s 479ms/step - loss: 0.1418 - acc: 0.9507 - val_loss: 0.0893 - val_acc: 0.9592\n",
      "Epoch 5/10\n",
      "151/151 [==============================] - 74s 488ms/step - loss: 0.1298 - acc: 0.9528 - val_loss: 0.0751 - val_acc: 0.9651\n",
      "Epoch 6/10\n",
      "151/151 [==============================] - 73s 481ms/step - loss: 0.1202 - acc: 0.9550 - val_loss: 0.0694 - val_acc: 0.9661\n",
      "Epoch 7/10\n",
      "151/151 [==============================] - 73s 481ms/step - loss: 0.1123 - acc: 0.9567 - val_loss: 0.0604 - val_acc: 0.9696\n",
      "Epoch 8/10\n",
      "151/151 [==============================] - 73s 485ms/step - loss: 0.1042 - acc: 0.9590 - val_loss: 0.0502 - val_acc: 0.9776\n",
      "Epoch 9/10\n",
      "151/151 [==============================] - 73s 484ms/step - loss: 0.1002 - acc: 0.9606 - val_loss: 0.0455 - val_acc: 0.9804\n",
      "Epoch 10/10\n",
      "151/151 [==============================] - 73s 485ms/step - loss: 0.0950 - acc: 0.9623 - val_loss: 0.0462 - val_acc: 0.9788\n"
     ]
    }
   ],
   "source": [
    "# https://datascience.stackexchange.com/questions/29719/how-to-set-batch-size-steps-per-epoch-and-validation-steps\n",
    "\n",
    "history = model.fit_generator(train_generator,\n",
    "                    steps_per_epoch= number_of_train_samples / batch_size,\n",
    "                    epochs=epochs, \n",
    "                    validation_data=test_generator,\n",
    "                    validation_steps=number_of_val_samples / batch_size)"
   ]
  },
  {
   "cell_type": "code",
   "execution_count": 13,
   "metadata": {},
   "outputs": [
    {
     "name": "stdout",
     "output_type": "stream",
     "text": [
      "2425/2425 [==============================] - 5s 2ms/step\n",
      "\n",
      "('Test accuracy: ', 0.9788040949143085)\n"
     ]
    }
   ],
   "source": [
    "score = model.evaluate(X_test, Y_test)\n",
    "print\n",
    "print('Test accuracy: ', score[1])"
   ]
  },
  {
   "cell_type": "code",
   "execution_count": 14,
   "metadata": {},
   "outputs": [],
   "source": [
    "model.save_weights(save_dir+\"/model2.h5\")\n",
    "model_json = model.to_json()\n",
    "with open(save_dir+\"/model_json2.json\", \"w\") as json_file:\n",
    "    json_file.write(model_json)"
   ]
  },
  {
   "cell_type": "code",
   "execution_count": 15,
   "metadata": {},
   "outputs": [
    {
     "name": "stdout",
     "output_type": "stream",
     "text": [
      "['acc', 'loss', 'val_acc', 'val_loss']\n"
     ]
    },
    {
     "data": {
      "image/png": "[encoded data removed]",
      "text/plain": [
       "<Figure size 432x288 with 1 Axes>"
      ]
     },
     "metadata": {
      "needs_background": "light"
     },
     "output_type": "display_data"
    }
   ],
   "source": [
    "print(history.history.keys())\n",
    "plt.plot(history.history['acc'])\n",
    "plt.plot(history.history['val_acc'])\n",
    "plt.title('model accuracy')\n",
    "plt.ylabel('accuracy')\n",
    "plt.xlabel('epoch')\n",
    "plt.legend(['train', 'test'], loc='upper left')\n",
    "plt.show()"
   ]
  },
  {
   "cell_type": "code",
   "execution_count": 16,
   "metadata": {},
   "outputs": [
    {
     "data": {
      "image/png": "[encoded data removed]",
      "text/plain": [
       "<Figure size 432x288 with 1 Axes>"
      ]
     },
     "metadata": {
      "needs_background": "light"
     },
     "output_type": "display_data"
    }
   ],
   "source": [
    "plt.plot(history.history['loss'])\n",
    "plt.plot(history.history['val_loss'])\n",
    "plt.title('model loss')\n",
    "plt.ylabel('loss')\n",
    "plt.xlabel('epoch')\n",
    "plt.legend(['train', 'test'], loc='upper left')\n",
    "plt.show()"
   ]
  },
  {
   "cell_type": "code",
   "execution_count": null,
   "metadata": {},
   "outputs": [],
   "source": []
  },
  {
   "cell_type": "code",
   "execution_count": null,
   "metadata": {},
   "outputs": [],
   "source": []
  }
 ],
 "metadata": {
  "kernelspec": {
   "display_name": "Python 2",
   "language": "python",
   "name": "python2"
  },
  "language_info": {
   "codemirror_mode": {
    "name": "ipython",
    "version": 2
   },
   "file_extension": ".py",
   "mimetype": "text/x-python",
   "name": "python",
   "nbconvert_exporter": "python",
   "pygments_lexer": "ipython2",
   "version": "2.7.15"
  }
 },
 "nbformat": 4,
 "nbformat_minor": 2
}
