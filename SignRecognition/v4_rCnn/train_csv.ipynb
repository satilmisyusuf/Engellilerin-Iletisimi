{
 "cells": [
  {
   "cell_type": "code",
   "execution_count": 1,
   "metadata": {
    "ExecuteTime": {
     "end_time": "2019-05-24T06:24:51.953890Z",
     "start_time": "2019-05-24T06:24:51.516913Z"
    }
   },
   "outputs": [],
   "source": [
    "# -*- coding: utf-8 -*-\n",
    "import cv2\n",
    "import os\n",
    "import csv\n",
    "from random import randint\n"
   ]
  },
  {
   "cell_type": "code",
   "execution_count": 2,
   "metadata": {
    "ExecuteTime": {
     "end_time": "2019-05-24T06:24:51.960767Z",
     "start_time": "2019-05-24T06:24:51.956188Z"
    }
   },
   "outputs": [],
   "source": [
    "dataset_folder=\"/Users/yusufsatilmis/Desktop/Dataset/Bitirme_V2/data2/\"\n",
    "dataset_folder2=\"/Users/yusufsatilmis/Desktop/Dataset/Bitirme_V2/\"\n",
    "path_train = dataset_folder2+\"/train/\"  \n",
    "path_test =  dataset_folder2+\"/test/\""
   ]
  },
  {
   "cell_type": "code",
   "execution_count": 3,
   "metadata": {
    "ExecuteTime": {
     "end_time": "2019-05-24T06:24:51.985342Z",
     "start_time": "2019-05-24T06:24:51.970500Z"
    }
   },
   "outputs": [],
   "source": [
    "    with open('train_label.csv', 'a') as csvFile:\n",
    "        writer = csv.writer(csvFile)\n",
    "        row = ['filename', 'width', 'height','class', 'xmin','ymin', 'xmax', 'ymax']\n",
    "        writer.writerow(row)\n",
    "    csvFile.close()\n",
    "    \n",
    "    \n",
    "    with open('test_label.csv', 'a') as csvFile:\n",
    "        writer = csv.writer(csvFile)\n",
    "        row = ['filename', 'width', 'height','class', 'xmin','ymin', 'xmax', 'ymax']\n",
    "        writer.writerow(row)\n",
    "    csvFile.close()"
   ]
  },
  {
   "cell_type": "code",
   "execution_count": 4,
   "metadata": {
    "ExecuteTime": {
     "end_time": "2019-05-24T06:24:52.015001Z",
     "start_time": "2019-05-24T06:24:51.989192Z"
    }
   },
   "outputs": [
    {
     "data": {
      "text/plain": [
       "0"
      ]
     },
     "execution_count": 4,
     "metadata": {},
     "output_type": "execute_result"
    }
   ],
   "source": [
    "os.system(\"mkdir \"+dataset_folder2+\"/train/\")\n",
    "os.system(\"mkdir \"+dataset_folder2+\"/test/\")"
   ]
  },
  {
   "cell_type": "code",
   "execution_count": 5,
   "metadata": {
    "ExecuteTime": {
     "end_time": "2019-05-24T06:30:11.260701Z",
     "start_time": "2019-05-24T06:24:52.018306Z"
    }
   },
   "outputs": [
    {
     "name": "stdout",
     "output_type": "stream",
     "text": [
      "iki Bitti\n",
      "=================\n",
      "\n",
      "ondort Bitti\n",
      "=================\n",
      "\n",
      "onuc Bitti\n",
      "=================\n",
      "\n",
      "onbir Bitti\n",
      "=================\n",
      "\n",
      "yedi Bitti\n",
      "=================\n",
      "\n",
      "oniki Bitti\n",
      "=================\n",
      "\n",
      "bir Bitti\n",
      "=================\n",
      "\n",
      "ok Bitti\n",
      "=================\n",
      "\n",
      "dort Bitti\n",
      "=================\n",
      "\n",
      "onyedi Bitti\n",
      "=================\n",
      "\n",
      "uc Bitti\n",
      "=================\n",
      "\n",
      "onbes Bitti\n",
      "=================\n",
      "\n",
      "onsekiz Bitti\n",
      "=================\n",
      "\n",
      "ondokuz Bitti\n",
      "=================\n",
      "\n",
      "bes Bitti\n",
      "=================\n",
      "\n",
      "alti Bitti\n",
      "=================\n",
      "\n",
      "on Bitti\n",
      "=================\n",
      "\n",
      "sekiz Bitti\n",
      "=================\n",
      "\n",
      "dokuz Bitti\n",
      "=================\n",
      "\n",
      "onalti Bitti\n",
      "=================\n",
      "\n"
     ]
    }
   ],
   "source": [
    "for filename in os.listdir(dataset_folder):   \n",
    "    if filename == '.DS_Store': #mac os file system otomatik kendisi icin olusturuyor.Bu yuzden kaldiriyoruz\n",
    "        continue\n",
    "    for imagename in os.listdir(dataset_folder+filename):\n",
    "        if imagename == '.DS_Store':\n",
    "            continue\n",
    "            \n",
    "            \n",
    "        image = cv2.imread(dataset_folder+filename+\"/\"+imagename)\n",
    "        #image = cv2.cvtColor(image, cv2.COLOR_BGR2RGB)\n",
    "        if randint(0, 9) <= 2:\n",
    "            cv2.imwrite(path_test+filename+'_'+imagename,image)\n",
    "            with open('test_label.csv', 'a') as csvFile:\n",
    "                writer = csv.writer(csvFile)\n",
    "                row = [filename+'_'+imagename, '640', '480',filename, '201','251', '440', '480']\n",
    "                writer.writerow(row)\n",
    "            csvFile.close()\n",
    "        \n",
    "        \n",
    "        else:\n",
    "            cv2.imwrite(path_train+filename+'_'+imagename,image)   \n",
    "            \n",
    "            with open('train_label.csv', 'a') as csvFile:\n",
    "                writer = csv.writer(csvFile)\n",
    "                row = [filename+'_'+imagename, '640', '480',filename, '201','251', '440', '480']\n",
    "                writer.writerow(row)\n",
    "            csvFile.close()\n",
    "            \n",
    "            \n",
    "    print (filename + \" Bitti\")\n",
    "    print (\"=================\")\n",
    "    print ()   \n",
    "          \n",
    "\n",
    "     \n"
   ]
  },
  {
   "cell_type": "code",
   "execution_count": null,
   "metadata": {},
   "outputs": [],
   "source": []
  },
  {
   "cell_type": "code",
   "execution_count": null,
   "metadata": {},
   "outputs": [],
   "source": []
  }
 ],
 "metadata": {
  "kernelspec": {
   "display_name": "Python 2",
   "language": "python",
   "name": "python2"
  },
  "language_info": {
   "codemirror_mode": {
    "name": "ipython",
    "version": 3
   },
   "file_extension": ".py",
   "mimetype": "text/x-python",
   "name": "python",
   "nbconvert_exporter": "python",
   "pygments_lexer": "ipython3",
   "version": "3.6.8"
  }
 },
 "nbformat": 4,
 "nbformat_minor": 2
}
