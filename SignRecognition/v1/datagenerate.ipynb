{
 "cells": [
  {
   "cell_type": "code",
   "execution_count": 3,
   "metadata": {},
   "outputs": [
    {
     "data": {
      "text/plain": [
       "0"
      ]
     },
     "execution_count": 3,
     "metadata": {},
     "output_type": "execute_result"
    }
   ],
   "source": [
    "import os\n",
    "from random import randint\n",
    "import cv2\n",
    "\n",
    "path = \"new_dataset\"\n",
    "os.system(\"mkdir \"+path+\"/train/\")\n",
    "os.system(\"mkdir \"+path+\"/test/\")"
   ]
  },
  {
   "cell_type": "code",
   "execution_count": 4,
   "metadata": {},
   "outputs": [
    {
     "name": "stdout",
     "output_type": "stream",
     "text": [
      "9 Basladi\n",
      "9 Bitti\n",
      "=================\n",
      "\n",
      "0 Basladi\n",
      "0 Bitti\n",
      "=================\n",
      "\n",
      "7 Basladi\n",
      "7 Bitti\n",
      "=================\n",
      "\n",
      "6 Basladi\n",
      "6 Bitti\n",
      "=================\n",
      "\n",
      "1 Basladi\n",
      "1 Bitti\n",
      "=================\n",
      "\n",
      "8 Basladi\n",
      "8 Bitti\n",
      "=================\n",
      "\n",
      "4 Basladi\n",
      "4 Bitti\n",
      "=================\n",
      "\n",
      "3 Basladi\n",
      "3 Bitti\n",
      "=================\n",
      "\n",
      "2 Basladi\n",
      "2 Bitti\n",
      "=================\n",
      "\n",
      "5 Basladi\n",
      "5 Bitti\n",
      "=================\n",
      "\n"
     ]
    }
   ],
   "source": [
    "\n",
    "for filename in os.listdir(\"dataset/\"):\n",
    "    print (filename + \" Basladi\")\n",
    "    os.system(\"mkdir \"+path+\"/train/\"+filename)\n",
    "    os.system(\"mkdir \"+path+\"/test/\"+filename)\n",
    "    \n",
    "    path_train = path+\"/train/\"+filename+\"/\"    \n",
    "    path_test =  path+\"/test/\" +filename+\"/\"\n",
    "    \n",
    "    for imagename in os.listdir(\"dataset/\"+filename):\n",
    "        image = cv2.imread(\"dataset/\"+filename+\"/\"+imagename)\n",
    "        if randint(0, 9) <= 2:\n",
    "            cv2.imwrite(path_test+imagename,image)\n",
    "        else:\n",
    "            cv2.imwrite(path_train+imagename,image)\n",
    "        \n",
    "    print (filename + \" Bitti\")\n",
    "    print (\"=================\")\n",
    "    print ()    "
   ]
  },
  {
   "cell_type": "code",
   "execution_count": null,
   "metadata": {},
   "outputs": [],
   "source": []
  }
 ],
 "metadata": {
  "kernelspec": {
   "display_name": "Python 3",
   "language": "python",
   "name": "python3"
  },
  "language_info": {
   "codemirror_mode": {
    "name": "ipython",
    "version": 3
   },
   "file_extension": ".py",
   "mimetype": "text/x-python",
   "name": "python",
   "nbconvert_exporter": "python",
   "pygments_lexer": "ipython3",
   "version": "3.6.8"
  }
 },
 "nbformat": 4,
 "nbformat_minor": 2
}
