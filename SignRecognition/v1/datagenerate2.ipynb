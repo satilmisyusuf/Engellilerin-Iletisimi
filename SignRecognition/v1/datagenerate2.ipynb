{
 "cells": [
  {
   "cell_type": "code",
   "execution_count": 1,
   "metadata": {},
   "outputs": [],
   "source": [
    "import os\n",
    "from random import randint\n",
    "import cv2\n",
    "import matplotlib.pyplot as plt\n",
    "from imgaug import augmenters as iaa\n"
   ]
  },
  {
   "cell_type": "code",
   "execution_count": 2,
   "metadata": {},
   "outputs": [
    {
     "data": {
      "text/plain": [
       "0"
      ]
     },
     "execution_count": 2,
     "metadata": {},
     "output_type": "execute_result"
    }
   ],
   "source": [
    "path = \"new_dataset\"\n",
    "os.system(\"mkdir \"+path+\"/train/\")\n",
    "os.system(\"mkdir \"+path+\"/test/\")"
   ]
  },
  {
   "cell_type": "code",
   "execution_count": 3,
   "metadata": {},
   "outputs": [],
   "source": [
    "seq = iaa.Sequential([\n",
    "    iaa.Sometimes(0.5,\n",
    "        iaa.GaussianBlur(sigma=(0, 0.5))            \n",
    "    ),\n",
    "    \n",
    "    iaa.Sometimes(0.5,\n",
    "        iaa.OneOf([\n",
    "                    iaa.Dropout((0.01, 0.1), per_channel=0.5),\n",
    "                    iaa.CoarseDropout((0.03, 0.15), size_percent=(0.02, 0.05), per_channel=0.2),\n",
    "                ])      \n",
    "    ),\n",
    "    \n",
    "    iaa.Sometimes(0.5,\n",
    "        iaa.ContrastNormalization((0.1, 2.0), per_channel=0.5)\n",
    "    )    \n",
    "    \n",
    "    \n",
    "])"
   ]
  },
  {
   "cell_type": "code",
   "execution_count": 4,
   "metadata": {},
   "outputs": [
    {
     "name": "stdout",
     "output_type": "stream",
     "text": [
      "9 Basladi\n",
      "9 Bitti\n",
      "=================\n",
      "\n",
      "0 Basladi\n",
      "0 Bitti\n",
      "=================\n",
      "\n",
      "7 Basladi\n",
      "7 Bitti\n",
      "=================\n",
      "\n",
      "6 Basladi\n",
      "6 Bitti\n",
      "=================\n",
      "\n",
      "1 Basladi\n",
      "1 Bitti\n",
      "=================\n",
      "\n",
      "8 Basladi\n",
      "8 Bitti\n",
      "=================\n",
      "\n",
      "4 Basladi\n",
      "4 Bitti\n",
      "=================\n",
      "\n",
      "3 Basladi\n",
      "3 Bitti\n",
      "=================\n",
      "\n",
      "2 Basladi\n",
      "2 Bitti\n",
      "=================\n",
      "\n",
      "5 Basladi\n",
      "5 Bitti\n",
      "=================\n",
      "\n"
     ]
    }
   ],
   "source": [
    "for filename in os.listdir(\"dataset/\"):\n",
    "    imglist = []\n",
    "    print (filename + \" Basladi\")\n",
    "    os.system(\"mkdir \"+path+\"/train/\"+filename)\n",
    "    os.system(\"mkdir \"+path+\"/test/\"+filename)\n",
    "    \n",
    "    path_train = path+\"/train/\"+filename+\"/\"    \n",
    "    path_test =  path+\"/test/\" +filename+\"/\"\n",
    "    \n",
    "    for imagename in os.listdir(\"dataset/\"+filename):\n",
    "        image = cv2.imread(\"dataset/\"+filename+\"/\"+imagename)\n",
    "        imglist.append(image)\n",
    "    \n",
    "    images_aug = seq.augment_images(imglist)\n",
    "    for i in range (len (imglist)):\n",
    "        if randint(0, 9) <= 2:\n",
    "            cv2.imwrite(path_test+str(i)+\"_ori.jpg\",imglist[i])\n",
    "        else:\n",
    "            cv2.imwrite(path_train+str(i)+\"_ori.jpg\",imglist[i])\n",
    "\n",
    "        \n",
    "    for i in range (len (images_aug)):\n",
    "        if randint(0, 19) <= 2:\n",
    "            cv2.imwrite(path_test+str(i)+\"_aug.jpg\",images_aug[i])\n",
    "        else:\n",
    "            cv2.imwrite(path_train+str(i)+\"_aug.jpg\",images_aug[i])            \n",
    "\n",
    "        \n",
    "    print (filename + \" Bitti\")\n",
    "    print (\"=================\")\n",
    "    print ()    "
   ]
  },
  {
   "cell_type": "code",
   "execution_count": null,
   "metadata": {},
   "outputs": [],
   "source": []
  },
  {
   "cell_type": "code",
   "execution_count": null,
   "metadata": {},
   "outputs": [],
   "source": []
  }
 ],
 "metadata": {
  "kernelspec": {
   "display_name": "Python 2",
   "language": "python",
   "name": "python2"
  },
  "language_info": {
   "codemirror_mode": {
    "name": "ipython",
    "version": 2
   },
   "file_extension": ".py",
   "mimetype": "text/x-python",
   "name": "python",
   "nbconvert_exporter": "python",
   "pygments_lexer": "ipython2",
   "version": "2.7.15"
  }
 },
 "nbformat": 4,
 "nbformat_minor": 2
}
