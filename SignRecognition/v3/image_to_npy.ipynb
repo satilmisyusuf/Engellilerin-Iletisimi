{
 "cells": [
  {
   "cell_type": "code",
   "execution_count": 1,
   "metadata": {},
   "outputs": [
    {
     "name": "stderr",
     "output_type": "stream",
     "text": [
      "Using TensorFlow backend.\n"
     ]
    }
   ],
   "source": [
    "# -*- coding: utf-8 -*-\n",
    "import cv2\n",
    "import os\n",
    "from random import randint\n",
    "import numpy as np\n",
    "from keras.utils import to_categorical\n"
   ]
  },
  {
   "cell_type": "code",
   "execution_count": 2,
   "metadata": {},
   "outputs": [],
   "source": [
    "npy_dir='./npy_file/'\n",
    "if not os.path.exists(npy_dir):\n",
    "    os.makedirs(npy_dir)\n",
    "    \n",
    "IMG_SIZE = 128 #mnist 28x28"
   ]
  },
  {
   "cell_type": "code",
   "execution_count": 3,
   "metadata": {},
   "outputs": [],
   "source": [
    "def image_to_npy():\n",
    "    x_train=[]\n",
    "    y_train=[]\n",
    "    \n",
    "    dataset_folder=\"/Users/yusufsatilmis/Desktop/Dataset/Bitirme_V2/data2/\"\n",
    "    for filename in os.listdir(dataset_folder):\n",
    "        #print filename\n",
    "        if filename == '.DS_Store': #mac os file system otomatik kendisi icin olusturuyor.Bu yuzden kaldiriyoruz\n",
    "            continue\n",
    "        for imagename in os.listdir(dataset_folder+filename):\n",
    "            if imagename == '.DS_Store':\n",
    "                continue\n",
    "            image = cv2.imread(dataset_folder+filename+\"/\"+imagename)\n",
    "            \n",
    "            x1, y1, x2, y2 = 201, 251, 440, 480\n",
    "            image = image[y1:y2, x1:x2]\n",
    "        \n",
    "            #image = image[200:480, 250:480]\n",
    "            #cv2.imshow(\"cropped\", image)\n",
    "            #cv2.waitKey(0)\n",
    "            \n",
    "            image = cv2.resize(image,(IMG_SIZE,IMG_SIZE))\n",
    "            \n",
    "            #image = cv2.cvtColor(image, cv2.COLOR_BGR2GRAY)\n",
    "            \n",
    "            x_train.append(image)\n",
    "            y_train.append(filename)\n",
    "         \n",
    "\n",
    "    x_train = np.array( x_train )\n",
    "    y_train = np.array( y_train )\n",
    "\n",
    "    \n",
    "    x_train = x_train.reshape(-1, IMG_SIZE, IMG_SIZE, 3).astype('float32') / 255.\n",
    "    y_train = to_categorical(y_train.astype('float32'))\n",
    "    \n",
    "    print (x_train.shape)\n",
    "    print (y_train.shape)\n",
    "\n",
    "    return x_train, y_train"
   ]
  },
  {
   "cell_type": "code",
   "execution_count": 4,
   "metadata": {},
   "outputs": [
    {
     "name": "stdout",
     "output_type": "stream",
     "text": [
      "(24246, 128, 128, 3)\n",
      "(24246, 20)\n"
     ]
    }
   ],
   "source": [
    "x_train, y_train = image_to_npy()"
   ]
  },
  {
   "cell_type": "code",
   "execution_count": 5,
   "metadata": {},
   "outputs": [],
   "source": [
    "np.save(npy_dir+'x_train.npy', x_train)\n",
    "np.save(npy_dir+'y_train.npy', y_train)"
   ]
  },
  {
   "cell_type": "code",
   "execution_count": null,
   "metadata": {},
   "outputs": [],
   "source": []
  },
  {
   "cell_type": "code",
   "execution_count": null,
   "metadata": {},
   "outputs": [],
   "source": []
  }
 ],
 "metadata": {
  "kernelspec": {
   "display_name": "Python 2",
   "language": "python",
   "name": "python2"
  },
  "language_info": {
   "codemirror_mode": {
    "name": "ipython",
    "version": 3
   },
   "file_extension": ".py",
   "mimetype": "text/x-python",
   "name": "python",
   "nbconvert_exporter": "python",
   "pygments_lexer": "ipython3",
   "version": "3.6.8"
  }
 },
 "nbformat": 4,
 "nbformat_minor": 2
}
