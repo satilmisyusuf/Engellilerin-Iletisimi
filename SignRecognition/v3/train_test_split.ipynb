{
 "cells": [
  {
   "cell_type": "code",
   "execution_count": 1,
   "metadata": {},
   "outputs": [],
   "source": [
    "# -*- coding: utf-8 -*-\n",
    "import cv2\n",
    "import os\n",
    "import numpy as np\n",
    "\n",
    "IMG_SIZE = 150 #mnist 28x28"
   ]
  },
  {
   "cell_type": "code",
   "execution_count": 2,
   "metadata": {},
   "outputs": [],
   "source": [
    "dataset_folder=\"/Users/yusufsatilmis/Desktop/Dataset/Bitirme/\"\n",
    "\n",
    "test_dir='./test/'\n",
    "if not os.path.exists(dataset_folder+test_dir):\n",
    "    os.makedirs(dataset_folder+test_dir)\n",
    "    for i in range (20):\n",
    "        if not os.path.exists(dataset_folder+test_dir+str(i)):\n",
    "            os.makedirs(dataset_folder+test_dir+str(i))\n",
    "\n",
    "    \n",
    "\n",
    "train_dir='./train/'\n",
    "if not os.path.exists(dataset_folder+train_dir):\n",
    "    os.makedirs(dataset_folder+train_dir)\n",
    "    for i in range (20):\n",
    "        if not os.path.exists(dataset_folder+train_dir+str(i)):\n",
    "            os.makedirs(dataset_folder+train_dir+str(i))"
   ]
  },
  {
   "cell_type": "code",
   "execution_count": 3,
   "metadata": {},
   "outputs": [
    {
     "name": "stdout",
     "output_type": "stream",
     "text": [
      "2277\n",
      "2277\n"
     ]
    }
   ],
   "source": [
    "x_train=[]\n",
    "y_train=[]\n",
    "dataset_folder=\"/Users/yusufsatilmis/Desktop/Dataset/Bitirme/data/\"\n",
    "\n",
    "for filename in os.listdir(dataset_folder):\n",
    "    #print filename\n",
    "    if filename == '.DS_Store': #mac os file system otomatik kendisi icin olusturuyor.Bu yuzden kaldiriyoruz\n",
    "        continue\n",
    "    for imagename in os.listdir(dataset_folder+filename):\n",
    "        if imagename == '.DS_Store':\n",
    "            continue\n",
    "        image = cv2.imread(dataset_folder+filename+\"/\"+imagename)\n",
    "\n",
    "        x1, y1, x2, y2 = 201, 251, 440, 480\n",
    "        image = image[y1:y2, x1:x2]\n",
    "\n",
    "        #image = image[200:480, 250:480]\n",
    "        #cv2.imshow(\"cropped\", image)\n",
    "        #cv2.waitKey(0)\n",
    "\n",
    "        image = cv2.resize(image,(IMG_SIZE,IMG_SIZE))\n",
    "\n",
    "        #image = cv2.cvtColor(image, cv2.COLOR_BGR2GRAY)\n",
    "\n",
    "        x_train.append(image)\n",
    "        y_train.append(filename)\n",
    "'''\n",
    "x_train = np.array( x_train )\n",
    "y_train = np.array( y_train )\n",
    "\n",
    "\n",
    "x_train = x_train.reshape(-1, IMG_SIZE, IMG_SIZE, 3).astype('float32') / 255.\n",
    "y_train = to_categorical(y_train.astype('float32'))\n",
    "'''\n",
    "print (len(x_train))\n",
    "print (len(y_train))\n",
    "\n"
   ]
  },
  {
   "cell_type": "code",
   "execution_count": 4,
   "metadata": {},
   "outputs": [
    {
     "data": {
      "text/plain": [
       "['8', '8', '8', '8', '8', '8', '8', '8', '8', '8']"
      ]
     },
     "execution_count": 4,
     "metadata": {},
     "output_type": "execute_result"
    }
   ],
   "source": [
    "y_train[1110:1120]"
   ]
  },
  {
   "cell_type": "code",
   "execution_count": 5,
   "metadata": {},
   "outputs": [
    {
     "name": "stdout",
     "output_type": "stream",
     "text": [
      "1707\n",
      "1707\n",
      "570\n",
      "570\n"
     ]
    }
   ],
   "source": [
    "from sklearn.model_selection import train_test_split\n",
    "X_trainn, X_testt, Y_trainn, Y_testt = train_test_split(x_train, y_train, test_size = 0.25, random_state = 0)\n",
    "\n",
    "print len(X_trainn)\n",
    "print len(Y_trainn)\n",
    "print len(X_testt)\n",
    "print len(Y_testt)"
   ]
  },
  {
   "cell_type": "code",
   "execution_count": 6,
   "metadata": {},
   "outputs": [
    {
     "data": {
      "text/plain": [
       "['5', '5', '4', '8', '4', '1', '3', '7', '2', '3']"
      ]
     },
     "execution_count": 6,
     "metadata": {},
     "output_type": "execute_result"
    }
   ],
   "source": [
    "Y_trainn[1110:1120]"
   ]
  },
  {
   "cell_type": "code",
   "execution_count": 7,
   "metadata": {},
   "outputs": [],
   "source": [
    "dataset_folder_train=\"/Users/yusufsatilmis/Desktop/Dataset/Bitirme/train/\"\n",
    "dataset_folder_test=\"/Users/yusufsatilmis/Desktop/Dataset/Bitirme/test/\"\n",
    "\n",
    "for i in range  (len(X_trainn)):\n",
    "    cv2.imwrite(dataset_folder_train+Y_trainn[i]+\"/\"+str(i)+\"_ori.jpg\",X_trainn[i])\n",
    "    #print(dataset_folder+Y_trainn[i]+\"/\"+str(i)+\"_ori.jpg\")\n",
    "\n",
    "    \n",
    "for i in range  (len(X_testt)):\n",
    "    cv2.imwrite(dataset_folder_test+Y_testt[i]+\"/\"+str(i)+\"_ori.jpg\",X_testt[i])\n",
    "    #print(dataset_folder_test+Y_testt[i]+\"/\"+str(i)+\"_ori.jpg\")\n",
    "    "
   ]
  },
  {
   "cell_type": "code",
   "execution_count": null,
   "metadata": {},
   "outputs": [],
   "source": []
  },
  {
   "cell_type": "code",
   "execution_count": null,
   "metadata": {},
   "outputs": [],
   "source": []
  }
 ],
 "metadata": {
  "kernelspec": {
   "display_name": "Python 2",
   "language": "python",
   "name": "python2"
  },
  "language_info": {
   "codemirror_mode": {
    "name": "ipython",
    "version": 3
   },
   "file_extension": ".py",
   "mimetype": "text/x-python",
   "name": "python",
   "nbconvert_exporter": "python",
   "pygments_lexer": "ipython3",
   "version": "3.6.8"
  }
 },
 "nbformat": 4,
 "nbformat_minor": 2
}
